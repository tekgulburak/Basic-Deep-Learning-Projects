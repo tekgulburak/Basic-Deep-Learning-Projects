{
  "nbformat": 4,
  "nbformat_minor": 0,
  "metadata": {
    "colab": {
      "provenance": [],
      "toc_visible": true
    },
    "kernelspec": {
      "name": "python3",
      "display_name": "Python 3"
    },
    "language_info": {
      "name": "python"
    }
  },
  "cells": [
    {
      "cell_type": "code",
      "execution_count": null,
      "metadata": {
        "id": "cgQ3y05eOSIF"
      },
      "outputs": [],
      "source": [
        "!pip install kaggle"
      ]
    },
    {
      "cell_type": "code",
      "source": [
        "!mkdir -p ~/.kaggle\n",
        "!cp kaggle.json ~/.kaggle/\n",
        "!chmod 600 ~/.kaggle/kaggle.json"
      ],
      "metadata": {
        "id": "bfF2iM6fOdHk"
      },
      "execution_count": null,
      "outputs": []
    },
    {
      "cell_type": "code",
      "source": [
        "!kaggle competitions download -c dogs-vs-cats"
      ],
      "metadata": {
        "id": "ZMnvvi2tOqYO"
      },
      "execution_count": null,
      "outputs": []
    },
    {
      "cell_type": "code",
      "source": [
        " !ls"
      ],
      "metadata": {
        "id": "i6h6kCo0ZZ0X"
      },
      "execution_count": null,
      "outputs": []
    },
    {
      "cell_type": "code",
      "source": [
        "from zipfile import ZipFile\n",
        "dataset=\"/content/dogs-vs-cats.zip\"\n",
        "with ZipFile(dataset,\"r\") as zip:\n",
        "  zip.extractall()\n",
        "  print(\"the dataset is extracted\")"
      ],
      "metadata": {
        "id": "gRvOhiLoGpUw"
      },
      "execution_count": null,
      "outputs": []
    },
    {
      "cell_type": "code",
      "source": [
        "from zipfile import ZipFile\n",
        "dataset=\"/content/train.zip\"\n",
        "with ZipFile(dataset,\"r\") as zip:\n",
        "  zip.extractall()\n",
        "  print(\"the dataset is extracted\")"
      ],
      "metadata": {
        "id": "md8LQ6dglP6b"
      },
      "execution_count": null,
      "outputs": []
    },
    {
      "cell_type": "code",
      "source": [
        "import os\n",
        "path,dirs,files=next(os.walk('/content/train'))\n",
        "file_count=len(files)\n",
        "print(\"number of images:\",file_count)\n"
      ],
      "metadata": {
        "id": "JtWAxqxnaa1H"
      },
      "execution_count": null,
      "outputs": []
    },
    {
      "cell_type": "code",
      "source": [
        "file_names=os.listdir(\"/content/train\")\n",
        "print(file_names)"
      ],
      "metadata": {
        "id": "FsWcSEBLde2f"
      },
      "execution_count": null,
      "outputs": []
    },
    {
      "cell_type": "code",
      "source": [
        "from zipfile import ZipFile\n",
        "dataset=\"/content/test1.zip\"\n",
        "with ZipFile(dataset,\"r\") as zip:\n",
        "  zip.extractall()\n",
        "  print(\"the dataset is extracted\")"
      ],
      "metadata": {
        "id": "wjFTcquPHDMI"
      },
      "execution_count": null,
      "outputs": []
    },
    {
      "cell_type": "code",
      "source": [
        "import os\n",
        "path,dirs,files=next(os.walk('/content/test1'))\n",
        "file_count=len(files)\n",
        "print(\"number of images:\",file_count)"
      ],
      "metadata": {
        "id": "ilUUci6EHDT1"
      },
      "execution_count": null,
      "outputs": []
    },
    {
      "cell_type": "code",
      "source": [
        "file_names=os.listdir(\"/content/test1\")\n",
        "print(file_names)"
      ],
      "metadata": {
        "id": "cO2cEAiYHDbG"
      },
      "execution_count": null,
      "outputs": []
    },
    {
      "cell_type": "code",
      "source": [
        "import numpy as np\n",
        "from PIL import Image\n",
        "import matplotlib.pyplot as plt\n",
        "import matplotlib.image as mpimg\n",
        "from sklearn.model_selection import train_test_split\n",
        "from google.colab.patches import cv2_imshow\n",
        "import os\n",
        "import numpy as np\n",
        "import matplotlib.pyplot as plt\n",
        "import matplotlib.image as mpimg\n",
        "import cv2\n",
        "from google.colab.patches import cv2_imshow\n",
        "from PIL import Image \n",
        "from sklearn.model_selection import train_test_split"
      ],
      "metadata": {
        "id": "mhlmmIqNfdup"
      },
      "execution_count": null,
      "outputs": []
    },
    {
      "cell_type": "code",
      "source": [
        "img=mpimg.imread(\"/content/train/cat.10001.jpg\") \n",
        "imgplt=plt.imshow(img)\n",
        "plt.show"
      ],
      "metadata": {
        "id": "g5Nr5PjYg3ja"
      },
      "execution_count": null,
      "outputs": []
    },
    {
      "cell_type": "code",
      "source": [
        "file_names=os.listdir(\"/content/train\")\n",
        "for i in range(5):\n",
        "  name=file_names[i]\n",
        "  print(name[0:17])"
      ],
      "metadata": {
        "id": "t6GqkcoyOHud"
      },
      "execution_count": null,
      "outputs": []
    },
    {
      "cell_type": "code",
      "source": [
        "file_names=os.listdir(\"/content/train\")\n",
        "cat_count=0\n",
        "dog_count=0\n",
        "\n",
        "for img_file in file_names:\n",
        "  name=img_file[0:3]\n",
        "\n",
        "  if name==\"cat\":\n",
        "     cat_count+=1\n",
        "\n",
        "  if name==\"dog\":\n",
        "     dog_count+=1\n",
        "\n",
        "\n",
        "print(\"number of cat images:\",cat_count)\n",
        "print(\"number of dog images:\",dog_count)\n"
      ],
      "metadata": {
        "id": "nGTXuyZWReX-"
      },
      "execution_count": null,
      "outputs": []
    },
    {
      "cell_type": "markdown",
      "source": [
        "Resizing all the images"
      ],
      "metadata": {
        "id": "r0TGpaoaWx8D"
      }
    },
    {
      "cell_type": "code",
      "source": [
        "os.mkdir(\"/content/image resized2\")"
      ],
      "metadata": {
        "id": "KPHFjRkCVjEc"
      },
      "execution_count": null,
      "outputs": []
    },
    {
      "cell_type": "markdown",
      "source": [
        "/content/train_new/Image_18.jpg "
      ],
      "metadata": {
        "id": "4amg799rGiy5"
      }
    },
    {
      "cell_type": "code",
      "source": [
        "original_folder=\"/content/train\"\n",
        "resized_folder=\"/content/image resized2\"\n",
        "\n",
        "for i in range(2000):\n",
        "  filename=os.listdir(original_folder)[i]\n",
        "  img_path=original_folder+\"/\"+filename\n",
        "\n",
        "  img=Image.open(img_path)\n",
        "  img=img.resize((224,224))\n",
        "  img=img.convert(\"RGB\")\n",
        "\n",
        "  newimgpath=resized_folder+\"/\"+filename\n",
        "  img.save(newimgpath)\n"
      ],
      "metadata": {
        "id": "ns4HNrI2XA8I"
      },
      "execution_count": null,
      "outputs": []
    },
    {
      "cell_type": "code",
      "source": [
        "img=mpimg.imread(\"/content/image resized2/cat.1004.jpg\")\n",
        "imgplt=plt.imshow(img)\n",
        "plt.show()"
      ],
      "metadata": {
        "id": "mYrAPEbQDFny"
      },
      "execution_count": null,
      "outputs": []
    },
    {
      "cell_type": "markdown",
      "source": [
        "Creating labels for resized images of dogs and cats\n",
        "\n",
        "Cat>1\n",
        "\n",
        "Dog-->0"
      ],
      "metadata": {
        "id": "IkZMbPTM6aoD"
      }
    },
    {
      "cell_type": "code",
      "source": [
        "filenames=os.listdir(\"/content/image resized2\")\n",
        "\n",
        "labels=[]\n",
        "\n",
        "for i in range(2000):\n",
        "    img_names=file_names[i]\n",
        "    name=img_names[0:3]\n",
        "\n",
        "\n",
        "    if name[0:3]==\"cat\" :\n",
        "      labels.append(1)\n",
        "\n",
        "    if name[0:3]==\"dog\":\n",
        "      labels.append(0)\n",
        "\n",
        "\n",
        "  \n",
        "  \n",
        "\n",
        "  "
      ],
      "metadata": {
        "id": "DW9Jk78C6yfb"
      },
      "execution_count": null,
      "outputs": []
    },
    {
      "cell_type": "code",
      "source": [
        "print(labels)"
      ],
      "metadata": {
        "id": "dW9NvQiW-QNM"
      },
      "execution_count": null,
      "outputs": []
    },
    {
      "cell_type": "code",
      "source": [
        "print(len(labels))"
      ],
      "metadata": {
        "id": "jNHV9hib-U4C"
      },
      "execution_count": null,
      "outputs": []
    },
    {
      "cell_type": "code",
      "source": [
        "print(len(filenames))"
      ],
      "metadata": {
        "id": "Laio405G-XeS"
      },
      "execution_count": null,
      "outputs": []
    },
    {
      "cell_type": "code",
      "source": [
        "print(filenames[0:5])\n"
      ],
      "metadata": {
        "id": "pXi1CRzr-b7G"
      },
      "execution_count": null,
      "outputs": []
    },
    {
      "cell_type": "code",
      "source": [
        "print(labels[0:5])"
      ],
      "metadata": {
        "id": "VwKJA07GBEfv"
      },
      "execution_count": null,
      "outputs": []
    },
    {
      "cell_type": "code",
      "source": [
        "values,counts=np.unique(labels,return_counts=True)\n",
        "print(values)\n",
        "print(counts)"
      ],
      "metadata": {
        "id": "r86FqDdbBRj9"
      },
      "execution_count": null,
      "outputs": []
    },
    {
      "cell_type": "markdown",
      "source": [
        "Converting all the resized images to numpy arrays"
      ],
      "metadata": {
        "id": "kRSj7-CIC6Z1"
      }
    },
    {
      "cell_type": "code",
      "source": [
        "import cv2\n",
        "import glob\n",
        "import keras"
      ],
      "metadata": {
        "id": "2cb9XcE8CX3b"
      },
      "execution_count": null,
      "outputs": []
    },
    {
      "cell_type": "code",
      "source": [
        "image_directory=\"/content/image resized2/\"\n",
        "image_extension=[\"JPG\",\"jpg\"]\n",
        "\n",
        "files=[]\n",
        "\n",
        "[files.extend(glob.glob(image_directory+ \"*.\" +i)) for i in image_extension]\n",
        "\n",
        "cat_dogs_images = np.asarray([cv2.imread(file) for file in files])\n"
      ],
      "metadata": {
        "id": "ZKGWNm0_DKAw"
      },
      "execution_count": null,
      "outputs": []
    },
    {
      "cell_type": "code",
      "source": [
        "print(cat_dogs_images)"
      ],
      "metadata": {
        "id": "uui99QutOrUD"
      },
      "execution_count": null,
      "outputs": []
    },
    {
      "cell_type": "code",
      "source": [
        "print(len(cat_dogs_images))"
      ],
      "metadata": {
        "id": "Z4uiJnWDPvLu"
      },
      "execution_count": null,
      "outputs": []
    },
    {
      "cell_type": "code",
      "source": [
        "type(cat_dogs_images)"
      ],
      "metadata": {
        "id": "J2621Lr7Rt48"
      },
      "execution_count": null,
      "outputs": []
    },
    {
      "cell_type": "code",
      "source": [
        "print(cat_dogs_images.shape)"
      ],
      "metadata": {
        "id": "gyTDT-kC-7iT"
      },
      "execution_count": null,
      "outputs": []
    },
    {
      "cell_type": "code",
      "source": [
        "X=cat_dogs_images\n",
        "Y=np.asarray(labels)"
      ],
      "metadata": {
        "id": "g7goZ25t-_Gt"
      },
      "execution_count": null,
      "outputs": []
    },
    {
      "cell_type": "code",
      "source": [
        "print(Y)"
      ],
      "metadata": {
        "id": "JmUa9Dly_bSJ"
      },
      "execution_count": null,
      "outputs": []
    },
    {
      "cell_type": "code",
      "source": [
        "X_train,X_test,Y_train,Y_test=train_test_split(X,Y,test_size=0.2,random_state=2)"
      ],
      "metadata": {
        "id": "fCCZYSs-_f1a"
      },
      "execution_count": null,
      "outputs": []
    },
    {
      "cell_type": "code",
      "source": [
        "print(X.shape,X_train.shape,X_test.shape)"
      ],
      "metadata": {
        "id": "DU47q_1X_-qE"
      },
      "execution_count": null,
      "outputs": []
    },
    {
      "cell_type": "code",
      "source": [
        "print(Y_train.shape,Y_test.shape)"
      ],
      "metadata": {
        "id": "C8ZuAgxOXnal"
      },
      "execution_count": null,
      "outputs": []
    },
    {
      "cell_type": "code",
      "source": [
        "import tensorflow as tf\n",
        "import tensorflow_hub as hub\n",
        "from tensorflow import keras"
      ],
      "metadata": {
        "id": "UbkMgyEkFM4z"
      },
      "execution_count": null,
      "outputs": []
    },
    {
      "cell_type": "code",
      "source": [
        "X_train_scaled=X_train/255\n",
        "X_test_scaled=X_test/255"
      ],
      "metadata": {
        "id": "ayULSheoAHee"
      },
      "execution_count": null,
      "outputs": []
    },
    {
      "cell_type": "code",
      "source": [
        "print(X_test)"
      ],
      "metadata": {
        "id": "LEVQjSafJ2Ra"
      },
      "execution_count": null,
      "outputs": []
    },
    {
      "cell_type": "code",
      "source": [
        "print(X_test_scaled)"
      ],
      "metadata": {
        "id": "fv0-3Wx6Jqev"
      },
      "execution_count": null,
      "outputs": []
    },
    {
      "cell_type": "code",
      "source": [
        "import tensorflow as tf\n",
        "import tensorflow_hub as hub\n",
        "from tensorflow import keras"
      ],
      "metadata": {
        "id": "DpvQprcjJtn5"
      },
      "execution_count": null,
      "outputs": []
    },
    {
      "cell_type": "code",
      "source": [
        "mobilenet_model = 'https://tfhub.dev/google/tf2-preview/mobilenet_v2/feature_vector/4'\n",
        "\n",
        "pretrained_model = hub.KerasLayer(mobilenet_model, input_shape=(224,224,3), trainable=False)"
      ],
      "metadata": {
        "id": "jCZ3AYviKFLF"
      },
      "execution_count": null,
      "outputs": []
    },
    {
      "cell_type": "code",
      "source": [
        "num_of_classes = 2\n",
        "\n",
        "model = tf.keras.Sequential([\n",
        "    \n",
        "    pretrained_model,\n",
        "    tf.keras.layers.Dense(num_of_classes)\n",
        "\n",
        "])\n",
        "\n",
        "model.summary()"
      ],
      "metadata": {
        "id": "6ZCB0etfFiDz"
      },
      "execution_count": null,
      "outputs": []
    },
    {
      "cell_type": "code",
      "source": [
        "model.compile(optimizer='adam',\n",
        "              loss = tf.keras.losses.SparseCategoricalCrossentropy(from_logits=True),\n",
        "              metrics=['acc'])"
      ],
      "metadata": {
        "id": "Nygm5TaYae-i"
      },
      "execution_count": null,
      "outputs": []
    },
    {
      "cell_type": "code",
      "source": [
        "model.fit(X_train_scaled, Y_train,epochs=5)"
      ],
      "metadata": {
        "id": "j4oWtY8IKGE5"
      },
      "execution_count": null,
      "outputs": []
    },
    {
      "cell_type": "code",
      "source": [
        "loss,acc=model.evaluate(X_test_scaled,Y_test)\n",
        "print(\"Test Loss=\",loss)\n",
        "print(\"Test Accuracy=\",acc)"
      ],
      "metadata": {
        "id": "-0WpxBvm-CHM"
      },
      "execution_count": null,
      "outputs": []
    },
    {
      "cell_type": "code",
      "source": [
        "input_image_path = input('Path of the image to be predicted: ')\n",
        "\n",
        "input_image = cv2.imread(input_image_path)\n",
        "\n",
        "cv2_imshow(input_image)\n",
        "\n",
        "input_image_resize = cv2.resize(input_image, (224,224))\n",
        "\n",
        "input_image_scaled = input_image_resize/255\n",
        "\n",
        "image_reshaped = np.reshape(input_image_scaled, [1,224,224,3])\n",
        "\n",
        "input_prediction = model.predict(image_reshaped)\n",
        "\n",
        "print(input_prediction)\n",
        "\n",
        "input_pred_label = np.argmax(input_prediction)\n",
        "\n",
        "print(input_pred_label)\n",
        "\n",
        "if input_pred_label == 1:\n",
        "  print('The image represents a cat')\n",
        "\n",
        "else:\n",
        "  print('The image represents a dog')"
      ],
      "metadata": {
        "colab": {
          "base_uri": "https://localhost:8080/",
          "height": 328
        },
        "id": "IgbekFizH1Rj",
        "outputId": "3c74e4fd-8010-4999-9723-54c44a120cf8"
      },
      "execution_count": 91,
      "outputs": [
        {
          "name": "stdout",
          "output_type": "stream",
          "text": [
            "Path of the image to be predicted: /content/image resized2/dog.10494.jpg\n"
          ]
        },
        {
          "output_type": "display_data",
          "data": {
            "text/plain": [
              "<PIL.Image.Image image mode=RGB size=224x224 at 0x7F3AF6EDFC10>"
            ],
            "image/png": "[encoded data removed]"
          },
          "metadata": {}
        },
        {
          "output_type": "stream",
          "name": "stdout",
          "text": [
            "1/1 [==============================] - 0s 57ms/step\n",
            "[[ 0.84984976 -2.4625318 ]]\n",
            "0\n",
            "The image represents a dog\n"
          ]
        }
      ]
    },
    {
      "cell_type": "code",
      "source": [],
      "metadata": {
        "id": "OCwZSS352jUx"
      },
      "execution_count": null,
      "outputs": []
    }
  ]
}