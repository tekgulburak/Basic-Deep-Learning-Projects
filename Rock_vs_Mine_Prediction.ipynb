{
  "nbformat": 4,
  "nbformat_minor": 0,
  "metadata": {
    "colab": {
      "provenance": [],
      "authorship_tag": "ABX9TyMxFZ+qkrRDr7iUYL3QIWVu",
      "include_colab_link": true
    },
    "kernelspec": {
      "name": "python3",
      "display_name": "Python 3"
    },
    "language_info": {
      "name": "python"
    }
  },
  "cells": [
    {
      "cell_type": "markdown",
      "metadata": {
        "id": "view-in-github",
        "colab_type": "text"
      },
      "source": [
        "<a href=\"https://colab.research.google.com/github/tekgulburak/Basic-Deep-Learning-Projects/blob/main/Rock_vs_Mine_Prediction.ipynb\" target=\"_parent\"><img src=\"https://colab.research.google.com/assets/colab-badge.svg\" alt=\"Open In Colab\"/></a>"
      ]
    },
    {
      "cell_type": "code",
      "execution_count": null,
      "metadata": {
        "id": "5sQr2bp5LtJi"
      },
      "outputs": [],
      "source": [
        "import numpy as np\n",
        "import pandas as pd\n",
        "from sklearn.model_selection import train_test_split\n",
        "from sklearn.linear_model import LogisticRegression\n",
        "from sklearn.metrics import accuracy_score"
      ]
    },
    {
      "cell_type": "code",
      "source": [
        "sonar_data=pd.read_csv(\"/content/Copy of sonar data.csv\",header=None)"
      ],
      "metadata": {
        "id": "H6DOb_FNiqA1"
      },
      "execution_count": null,
      "outputs": []
    },
    {
      "cell_type": "code",
      "source": [
        "sonar_data[0]"
      ],
      "metadata": {
        "id": "EIl58lFouNsW"
      },
      "execution_count": null,
      "outputs": []
    },
    {
      "cell_type": "code",
      "source": [
        "sonar_data.head()"
      ],
      "metadata": {
        "id": "Aw7s0LKZjReC"
      },
      "execution_count": null,
      "outputs": []
    },
    {
      "cell_type": "code",
      "source": [
        "sonar_data.shape"
      ],
      "metadata": {
        "id": "eHyYjVoxjT7J"
      },
      "execution_count": null,
      "outputs": []
    },
    {
      "cell_type": "code",
      "source": [
        "sonar_data.describe()"
      ],
      "metadata": {
        "id": "eHSG0rJ5jXvE"
      },
      "execution_count": null,
      "outputs": []
    },
    {
      "cell_type": "code",
      "source": [
        "sonar_data[60].value_counts()"
      ],
      "metadata": {
        "id": "2ClmHv5ljd7T"
      },
      "execution_count": null,
      "outputs": []
    },
    {
      "cell_type": "code",
      "source": [
        "sonar_data.groupby(60).mean()"
      ],
      "metadata": {
        "id": "5T-LBt7AmaCE"
      },
      "execution_count": null,
      "outputs": []
    },
    {
      "cell_type": "code",
      "source": [
        "X=sonar_data.drop(columns=60,axis=1)\n",
        "Y=sonar_data[60]"
      ],
      "metadata": {
        "id": "bVXv_RrhmniK"
      },
      "execution_count": null,
      "outputs": []
    },
    {
      "cell_type": "code",
      "source": [
        "print(X)\n",
        "print(Y)"
      ],
      "metadata": {
        "id": "UmzmVD_XpMA4"
      },
      "execution_count": null,
      "outputs": []
    },
    {
      "cell_type": "code",
      "source": [
        "X_train,X_test,Y_train,Y_test=train_test_split(X,Y,test_size=0.1,stratify=Y,random_state=1)"
      ],
      "metadata": {
        "id": "BIGWzBuFpRRK"
      },
      "execution_count": null,
      "outputs": []
    },
    {
      "cell_type": "code",
      "source": [
        "print(X.shape, X_train.shape, X_test.shape)\n"
      ],
      "metadata": {
        "id": "rGLmHIhnpncn"
      },
      "execution_count": null,
      "outputs": []
    },
    {
      "cell_type": "markdown",
      "source": [
        "burada stratify=Y olduğu için hedef değişkenin indexi gösterilerek veri takibi kolaylaştırılır.\n"
      ],
      "metadata": {
        "id": "mXJgogHVsRgU"
      }
    },
    {
      "cell_type": "code",
      "source": [
        "print(X_train)\n",
        "print(Y_train)"
      ],
      "metadata": {
        "id": "8OuHAHY2qxfU"
      },
      "execution_count": null,
      "outputs": []
    },
    {
      "cell_type": "code",
      "source": [
        "model=LogisticRegression()"
      ],
      "metadata": {
        "id": "WHS9E1mTq5VE"
      },
      "execution_count": null,
      "outputs": []
    },
    {
      "cell_type": "code",
      "source": [
        "model.fit(X_train,Y_train)"
      ],
      "metadata": {
        "id": "zhfPicRtsixq"
      },
      "execution_count": null,
      "outputs": []
    },
    {
      "cell_type": "code",
      "source": [
        "x_train_prediction=model.predict(X_train)\n",
        "training_data_score=accuracy_score(x_train_prediction,Y_train)"
      ],
      "metadata": {
        "id": "AhbbCuMqsloE"
      },
      "execution_count": null,
      "outputs": []
    },
    {
      "cell_type": "code",
      "source": [
        "print(\"accuracy of data:\",training_data_score)"
      ],
      "metadata": {
        "id": "7IctJkGYs6Ul"
      },
      "execution_count": null,
      "outputs": []
    },
    {
      "cell_type": "code",
      "source": [
        "x_test_prediction=model.predict(X_test)\n",
        "test_data_accuracy=accuracy_score(x_test_prediction,Y_test)"
      ],
      "metadata": {
        "id": "pAB6m2NYtBVI"
      },
      "execution_count": null,
      "outputs": []
    },
    {
      "cell_type": "code",
      "source": [
        "print(\"accuracy on test data:\",test_data_accuracy)"
      ],
      "metadata": {
        "id": "-JnA_WDatQYX"
      },
      "execution_count": null,
      "outputs": []
    },
    {
      "cell_type": "code",
      "source": [
        "input_data = (0.0307,0.0523,0.0653,0.0521,0.0611,0.0577,0.0665,0.0664,0.1460,0.2792,0.3877,0.4992,0.4981,0.4972,0.5607,0.7339,0.8230,0.9173,0.9975,0.9911,0.8240,0.6498,0.5980,0.4862,0.3150,0.1543,0.0989,0.0284,0.1008,0.2636,0.2694,0.2930,0.2925,0.3998,0.3660,0.3172,0.4609,0.4374,0.1820,0.3376,0.6202,0.4448,0.1863,0.1420,0.0589,0.0576,0.0672,0.0269,0.0245,0.0190,0.0063,0.0321,0.0189,0.0137,0.0277,0.0152,0.0052,0.0121,0.0124,0.0055)\n"
      ],
      "metadata": {
        "id": "Z4Vnj1t1vojd"
      },
      "execution_count": null,
      "outputs": []
    },
    {
      "cell_type": "code",
      "source": [
        "#burada array bir tuple olarak saklanmıştır.bu nedenle burada veri bir dizi halinde saklanmıştır.\n",
        "input_data_array=np.asarray(input_data)\n",
        "print(input_data_array)"
      ],
      "metadata": {
        "id": "Q_a_dWt_tWmv"
      },
      "execution_count": null,
      "outputs": []
    },
    {
      "cell_type": "code",
      "source": [
        "input_data_reshaped=input_data_array.reshape(1,-1)\n"
      ],
      "metadata": {
        "id": "RLFvSLJ_vrZj"
      },
      "execution_count": null,
      "outputs": []
    },
    {
      "cell_type": "code",
      "source": [
        "prediction=model.predict(input_data_reshaped)\n",
        "print(prediction)"
      ],
      "metadata": {
        "id": "6OGc3JFNBiWY"
      },
      "execution_count": null,
      "outputs": []
    },
    {
      "cell_type": "code",
      "source": [
        "if prediction==\"M\":\n",
        "  print(\"this is a mine\")\n",
        "\n",
        "else :\n",
        "  print(\"this is a rock\")"
      ],
      "metadata": {
        "id": "bZr65HVjBs-H",
        "colab": {
          "base_uri": "https://localhost:8080/"
        },
        "outputId": "bf85f3b7-be79-4cb8-bb26-ac3a46dc605e"
      },
      "execution_count": 26,
      "outputs": [
        {
          "output_type": "stream",
          "name": "stdout",
          "text": [
            "this is a mine\n"
          ]
        }
      ]
    }
  ]
}